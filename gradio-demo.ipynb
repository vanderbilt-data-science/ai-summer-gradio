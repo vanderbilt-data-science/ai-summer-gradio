{
  "cells": [
    {
      "cell_type": "markdown",
      "id": "e0729087-a6b3-4be0-a5c1-328ee8719aa4",
      "metadata": {
        "id": "e0729087-a6b3-4be0-a5c1-328ee8719aa4"
      },
      "source": [
        "[![Open In Colab](https://colab.research.google.com/assets/colab-badge.svg)](https://colab.research.google.com/github/vanderbilt-data-science/ai-summer-gradio/blob/main/gradio-demo.ipynb)"
      ]
    },
    {
      "cell_type": "code",
      "execution_count": null,
      "id": "ec8af6e7-420f-401b-ab3a-ac62d300cd40",
      "metadata": {
        "id": "ec8af6e7-420f-401b-ab3a-ac62d300cd40"
      },
      "outputs": [],
      "source": [
        "!pip install gradio"
      ]
    },
    {
      "cell_type": "code",
      "source": [
        ""
      ],
      "metadata": {
        "id": "SBwehX4T3L-E"
      },
      "id": "SBwehX4T3L-E",
      "execution_count": null,
      "outputs": []
    }
  ],
  "metadata": {
    "kernelspec": {
      "display_name": "Python 3 (ipykernel)",
      "language": "python",
      "name": "python3"
    },
    "language_info": {
      "codemirror_mode": {
        "name": "ipython",
        "version": 3
      },
      "file_extension": ".py",
      "mimetype": "text/x-python",
      "name": "python",
      "nbconvert_exporter": "python",
      "pygments_lexer": "ipython3",
      "version": "3.8.8"
    },
    "colab": {
      "name": "gradio-demo.ipynb",
      "provenance": []
    }
  },
  "nbformat": 4,
  "nbformat_minor": 5
}