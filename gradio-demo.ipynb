{
  "cells": [
    {
      "cell_type": "markdown",
      "id": "e0729087-a6b3-4be0-a5c1-328ee8719aa4",
      "metadata": {
        "id": "e0729087-a6b3-4be0-a5c1-328ee8719aa4"
      },
      "source": [
        "[![Open In Colab](https://colab.research.google.com/assets/colab-badge.svg)](https://colab.research.google.com/github/vanderbilt-data-science/ai-summer-gradio/blob/main/gradio-demo.ipynb)"
      ]
    },
    {
      "cell_type": "markdown",
      "source": [
        "# Introduction to Gradio for Hugging Face\n",
        "\n",
        "Hugging Face is an excellent platform to build and share your AI and ML models. One of the best ways to share the models you develop is by creating interactive web-based applications. These applications not only allow you to share your work with others who might be working on similar problems or those without a technical background, but building these applications also help you test your models and better understand how they work. \n",
        "\n",
        "Creating such web-based applications has traditionally been difficult since it required knowledge of how to host applications on the web, in addition to the various programming languages needed to build the applications from the ground up like HTML, CSS and Java. \n",
        "\n",
        "Gradio elimiates the need to know how to program in these other languages. In addtion, the integration with Hugging Face spaces allows you to host your application on the web, for free - in just a few lines of code!\n",
        "\n",
        "Today, we'll cover some of the major components of Gradio. Several parts of this session today are inspired by the Hugging Face course on Gradio available here: [Gradio Hugging Face Course](https://www.gradio.app/getting_started/)\n",
        "\n",
        "So let's get started! The first step is to install Gradio. This can be done using a simple pip install on your local machine. Since we'll be using Google Colab today, we will also need to install it here. "
      ],
      "metadata": {
        "id": "PSMMc_Hj3nJQ"
      },
      "id": "PSMMc_Hj3nJQ"
    },
    {
      "cell_type": "code",
      "execution_count": 1,
      "id": "ec8af6e7-420f-401b-ab3a-ac62d300cd40",
      "metadata": {
        "id": "ec8af6e7-420f-401b-ab3a-ac62d300cd40",
        "colab": {
          "base_uri": "https://localhost:8080/"
        },
        "outputId": "08a8ab7d-4705-4b78-f7c2-778979abc7f8"
      },
      "outputs": [
        {
          "output_type": "stream",
          "name": "stdout",
          "text": [
            "Requirement already satisfied: gradio in /usr/local/lib/python3.7/dist-packages (3.0.2)\n",
            "Requirement already satisfied: matplotlib in /usr/local/lib/python3.7/dist-packages (from gradio) (3.2.2)\n",
            "Requirement already satisfied: numpy in /usr/local/lib/python3.7/dist-packages (from gradio) (1.21.6)\n",
            "Requirement already satisfied: fastapi in /usr/local/lib/python3.7/dist-packages (from gradio) (0.78.0)\n",
            "Requirement already satisfied: Jinja2 in /usr/local/lib/python3.7/dist-packages (from gradio) (2.11.3)\n",
            "Requirement already satisfied: orjson in /usr/local/lib/python3.7/dist-packages (from gradio) (3.6.8)\n",
            "Requirement already satisfied: paramiko in /usr/local/lib/python3.7/dist-packages (from gradio) (2.11.0)\n",
            "Requirement already satisfied: aiohttp in /usr/local/lib/python3.7/dist-packages (from gradio) (3.8.1)\n",
            "Requirement already satisfied: requests in /usr/local/lib/python3.7/dist-packages (from gradio) (2.23.0)\n",
            "Requirement already satisfied: pydub in /usr/local/lib/python3.7/dist-packages (from gradio) (0.25.1)\n",
            "Requirement already satisfied: pillow in /usr/local/lib/python3.7/dist-packages (from gradio) (7.1.2)\n",
            "Requirement already satisfied: pycryptodome in /usr/local/lib/python3.7/dist-packages (from gradio) (3.14.1)\n",
            "Requirement already satisfied: python-multipart in /usr/local/lib/python3.7/dist-packages (from gradio) (0.0.5)\n",
            "Requirement already satisfied: ffmpy in /usr/local/lib/python3.7/dist-packages (from gradio) (0.3.0)\n",
            "Requirement already satisfied: markdown-it-py[linkify,plugins] in /usr/local/lib/python3.7/dist-packages (from gradio) (2.1.0)\n",
            "Requirement already satisfied: pandas in /usr/local/lib/python3.7/dist-packages (from gradio) (1.3.5)\n",
            "Requirement already satisfied: analytics-python in /usr/local/lib/python3.7/dist-packages (from gradio) (1.4.0)\n",
            "Requirement already satisfied: uvicorn in /usr/local/lib/python3.7/dist-packages (from gradio) (0.17.6)\n",
            "Requirement already satisfied: attrs>=17.3.0 in /usr/local/lib/python3.7/dist-packages (from aiohttp->gradio) (21.4.0)\n",
            "Requirement already satisfied: typing-extensions>=3.7.4 in /usr/local/lib/python3.7/dist-packages (from aiohttp->gradio) (4.2.0)\n",
            "Requirement already satisfied: frozenlist>=1.1.1 in /usr/local/lib/python3.7/dist-packages (from aiohttp->gradio) (1.3.0)\n",
            "Requirement already satisfied: multidict<7.0,>=4.5 in /usr/local/lib/python3.7/dist-packages (from aiohttp->gradio) (6.0.2)\n",
            "Requirement already satisfied: aiosignal>=1.1.2 in /usr/local/lib/python3.7/dist-packages (from aiohttp->gradio) (1.2.0)\n",
            "Requirement already satisfied: async-timeout<5.0,>=4.0.0a3 in /usr/local/lib/python3.7/dist-packages (from aiohttp->gradio) (4.0.2)\n",
            "Requirement already satisfied: asynctest==0.13.0 in /usr/local/lib/python3.7/dist-packages (from aiohttp->gradio) (0.13.0)\n",
            "Requirement already satisfied: yarl<2.0,>=1.0 in /usr/local/lib/python3.7/dist-packages (from aiohttp->gradio) (1.7.2)\n",
            "Requirement already satisfied: charset-normalizer<3.0,>=2.0 in /usr/local/lib/python3.7/dist-packages (from aiohttp->gradio) (2.0.12)\n",
            "Requirement already satisfied: idna>=2.0 in /usr/local/lib/python3.7/dist-packages (from yarl<2.0,>=1.0->aiohttp->gradio) (2.10)\n",
            "Requirement already satisfied: backoff==1.10.0 in /usr/local/lib/python3.7/dist-packages (from analytics-python->gradio) (1.10.0)\n",
            "Requirement already satisfied: python-dateutil>2.1 in /usr/local/lib/python3.7/dist-packages (from analytics-python->gradio) (2.8.2)\n",
            "Requirement already satisfied: monotonic>=1.5 in /usr/local/lib/python3.7/dist-packages (from analytics-python->gradio) (1.6)\n",
            "Requirement already satisfied: six>=1.5 in /usr/local/lib/python3.7/dist-packages (from analytics-python->gradio) (1.15.0)\n",
            "Requirement already satisfied: urllib3!=1.25.0,!=1.25.1,<1.26,>=1.21.1 in /usr/local/lib/python3.7/dist-packages (from requests->gradio) (1.24.3)\n",
            "Requirement already satisfied: chardet<4,>=3.0.2 in /usr/local/lib/python3.7/dist-packages (from requests->gradio) (3.0.4)\n",
            "Requirement already satisfied: certifi>=2017.4.17 in /usr/local/lib/python3.7/dist-packages (from requests->gradio) (2021.10.8)\n",
            "Requirement already satisfied: starlette==0.19.1 in /usr/local/lib/python3.7/dist-packages (from fastapi->gradio) (0.19.1)\n",
            "Requirement already satisfied: pydantic!=1.7,!=1.7.1,!=1.7.2,!=1.7.3,!=1.8,!=1.8.1,<2.0.0,>=1.6.2 in /usr/local/lib/python3.7/dist-packages (from fastapi->gradio) (1.9.1)\n",
            "Requirement already satisfied: anyio<5,>=3.4.0 in /usr/local/lib/python3.7/dist-packages (from starlette==0.19.1->fastapi->gradio) (3.6.1)\n",
            "Requirement already satisfied: sniffio>=1.1 in /usr/local/lib/python3.7/dist-packages (from anyio<5,>=3.4.0->starlette==0.19.1->fastapi->gradio) (1.2.0)\n",
            "Requirement already satisfied: MarkupSafe>=0.23 in /usr/local/lib/python3.7/dist-packages (from Jinja2->gradio) (2.0.1)\n",
            "Requirement already satisfied: mdurl~=0.1 in /usr/local/lib/python3.7/dist-packages (from markdown-it-py[linkify,plugins]->gradio) (0.1.1)\n",
            "Requirement already satisfied: linkify-it-py~=1.0 in /usr/local/lib/python3.7/dist-packages (from markdown-it-py[linkify,plugins]->gradio) (1.0.3)\n",
            "Requirement already satisfied: mdit-py-plugins in /usr/local/lib/python3.7/dist-packages (from markdown-it-py[linkify,plugins]->gradio) (0.3.0)\n",
            "Requirement already satisfied: uc-micro-py in /usr/local/lib/python3.7/dist-packages (from linkify-it-py~=1.0->markdown-it-py[linkify,plugins]->gradio) (1.0.1)\n",
            "Requirement already satisfied: cycler>=0.10 in /usr/local/lib/python3.7/dist-packages (from matplotlib->gradio) (0.11.0)\n",
            "Requirement already satisfied: kiwisolver>=1.0.1 in /usr/local/lib/python3.7/dist-packages (from matplotlib->gradio) (1.4.2)\n",
            "Requirement already satisfied: pyparsing!=2.0.4,!=2.1.2,!=2.1.6,>=2.0.1 in /usr/local/lib/python3.7/dist-packages (from matplotlib->gradio) (3.0.9)\n",
            "Requirement already satisfied: pytz>=2017.3 in /usr/local/lib/python3.7/dist-packages (from pandas->gradio) (2022.1)\n",
            "Requirement already satisfied: cryptography>=2.5 in /usr/local/lib/python3.7/dist-packages (from paramiko->gradio) (37.0.2)\n",
            "Requirement already satisfied: pynacl>=1.0.1 in /usr/local/lib/python3.7/dist-packages (from paramiko->gradio) (1.5.0)\n",
            "Requirement already satisfied: bcrypt>=3.1.3 in /usr/local/lib/python3.7/dist-packages (from paramiko->gradio) (3.2.2)\n",
            "Requirement already satisfied: cffi>=1.1 in /usr/local/lib/python3.7/dist-packages (from bcrypt>=3.1.3->paramiko->gradio) (1.15.0)\n",
            "Requirement already satisfied: pycparser in /usr/local/lib/python3.7/dist-packages (from cffi>=1.1->bcrypt>=3.1.3->paramiko->gradio) (2.21)\n",
            "Requirement already satisfied: h11>=0.8 in /usr/local/lib/python3.7/dist-packages (from uvicorn->gradio) (0.13.0)\n",
            "Requirement already satisfied: click>=7.0 in /usr/local/lib/python3.7/dist-packages (from uvicorn->gradio) (7.1.2)\n",
            "Requirement already satisfied: asgiref>=3.4.0 in /usr/local/lib/python3.7/dist-packages (from uvicorn->gradio) (3.5.2)\n"
          ]
        }
      ],
      "source": [
        "!pip install gradio\n",
        "import gradio as gr"
      ]
    },
    {
      "cell_type": "markdown",
      "source": [
        "Before jumping into the details, let's take a look at a simple Hello World application. This application takes in a name, and returns a greeting:"
      ],
      "metadata": {
        "id": "tsazCkaP6KCI"
      },
      "id": "tsazCkaP6KCI"
    },
    {
      "cell_type": "code",
      "source": [
        "def greet(name):\n",
        "    return \"Hello \" + name + \"!!\"\n",
        "\n",
        "demo = gr.Interface(fn=greet, inputs=\"text\", outputs=\"text\")\n",
        "\n",
        "demo.launch()"
      ],
      "metadata": {
        "colab": {
          "base_uri": "https://localhost:8080/",
          "height": 658
        },
        "id": "SBwehX4T3L-E",
        "outputId": "50d2ba0c-8ead-4905-9082-a5ab04c011b3"
      },
      "id": "SBwehX4T3L-E",
      "execution_count": 2,
      "outputs": [
        {
          "output_type": "stream",
          "name": "stdout",
          "text": [
            "Colab notebook detected. To show errors in colab notebook, set `debug=True` in `launch()`\n",
            "Running on public URL: https://56308.gradio.app\n",
            "\n",
            "This share link expires in 72 hours. For free permanent hosting, check out Spaces (https://huggingface.co/spaces)\n"
          ]
        },
        {
          "output_type": "display_data",
          "data": {
            "text/plain": [
              "<IPython.lib.display.IFrame at 0x7f902dda70d0>"
            ],
            "text/html": [
              "\n",
              "        <iframe\n",
              "            width=\"900\"\n",
              "            height=\"500\"\n",
              "            src=\"https://56308.gradio.app\"\n",
              "            frameborder=\"0\"\n",
              "            allowfullscreen\n",
              "        ></iframe>\n",
              "        "
            ]
          },
          "metadata": {}
        },
        {
          "output_type": "execute_result",
          "data": {
            "text/plain": [
              "(<gradio.routes.App at 0x7f902dda0f90>,\n",
              " 'http://127.0.0.1:7860/',\n",
              " 'https://56308.gradio.app')"
            ]
          },
          "metadata": {},
          "execution_count": 2
        }
      ]
    },
    {
      "cell_type": "markdown",
      "source": [
        "Here, you can see that it was extremely simple to create this application. It does not take much more effort to link these application to your models or any other functions. The gradio application will show up either in a pop-up, or within the Jupyter Notebook. The application is also available in your browser at the provided localhost website.\n",
        "\n",
        "\n",
        "Now, let's examine the **Interface** class. The interface class is the foundation of Gradio applications and is comprised of only 3 elements:\n",
        "\n",
        "1. fn: This can be nearly any function, and gradio can simply wrap it in an interface.\n",
        "2. inputs: The components to use for the inputs to your application.\n",
        "3. outputs: The components to use for the outputs to your application.\n",
        "\n",
        "The inputs and outputs can be of several different types. These can either be passed as objects or as their string shortcuts. In the example above, we passed \"text\" as the inputs. This is the string shortcut to the \"textbox\" type of input. Gradio refers to these as Components. You can see examples of the different types of components at the following link: [Gradio Components](https://www.gradio.app/docs/#components)\n",
        "\n",
        "Gradio **Components Attributes** allow you change change the way UI components look or behave. Let's take a look at the Hello World example above. We're currently using the string shortcut for textboxes at the moment. We can explicitly use the **Textbox** class to customize the size of the input space. We can also provide either a hint for the input required, or provide an example. "
      ],
      "metadata": {
        "id": "Yk2Uj-aT_w_Q"
      },
      "id": "Yk2Uj-aT_w_Q"
    },
    {
      "cell_type": "code",
      "source": [
        "demo = gr.Interface(\n",
        "    fn=greet,\n",
        "    inputs=gr.Textbox(label = \"Name\", lines=2, placeholder=\"Name Here...\"),\n",
        "    outputs=gr.Textbox(label = \"Greeting\"),\n",
        ")\n",
        "\n",
        "demo.launch()"
      ],
      "metadata": {
        "id": "v7De96ymDJyi",
        "colab": {
          "base_uri": "https://localhost:8080/",
          "height": 658
        },
        "outputId": "086a7dbc-32fe-41e5-b623-708a37d8b387"
      },
      "id": "v7De96ymDJyi",
      "execution_count": 3,
      "outputs": [
        {
          "output_type": "stream",
          "name": "stdout",
          "text": [
            "Colab notebook detected. To show errors in colab notebook, set `debug=True` in `launch()`\n",
            "Running on public URL: https://35821.gradio.app\n",
            "\n",
            "This share link expires in 72 hours. For free permanent hosting, check out Spaces (https://huggingface.co/spaces)\n"
          ]
        },
        {
          "output_type": "display_data",
          "data": {
            "text/plain": [
              "<IPython.lib.display.IFrame at 0x7f90243e1690>"
            ],
            "text/html": [
              "\n",
              "        <iframe\n",
              "            width=\"900\"\n",
              "            height=\"500\"\n",
              "            src=\"https://35821.gradio.app\"\n",
              "            frameborder=\"0\"\n",
              "            allowfullscreen\n",
              "        ></iframe>\n",
              "        "
            ]
          },
          "metadata": {}
        },
        {
          "output_type": "execute_result",
          "data": {
            "text/plain": [
              "(<gradio.routes.App at 0x7f902d536d90>,\n",
              " 'http://127.0.0.1:7861/',\n",
              " 'https://35821.gradio.app')"
            ]
          },
          "metadata": {},
          "execution_count": 3
        }
      ]
    },
    {
      "cell_type": "markdown",
      "source": [
        "We can now see that the space provided in the input text box is larger, and there is a prompt to indicate the type of input required. Let's take this a step further. \n",
        "\n",
        "## Multiple Inputs and Examples\n",
        "\n",
        "In the code chunk below, I modify the greet function to take in two additional parameters - isMorning and temperature. I can modify the output to say \"Good Morning or \"Good Evening\", and provide the temperature for the day. The function also returns the temperature provided in Celsius.\n",
        "\n",
        "In addition to providing prompts within the input spaces, we can also provide users with examples in a table format using the examples element in the Interface class."
      ],
      "metadata": {
        "id": "XItrB25NjAuP"
      },
      "id": "XItrB25NjAuP"
    },
    {
      "cell_type": "code",
      "source": [
        "def greet(name, isMorning, temperature):\n",
        "    salutation = \"Good morning\" if isMorning else \"Good evening\"\n",
        "    greeting = \"%s %s. It is %s degrees today\" % (salutation, name, temperature)\n",
        "    celsius = (temperature - 32) * 5 / 9\n",
        "    return greeting, round(celsius, 2)\n",
        "\n",
        "demo = gr.Interface(\n",
        "    fn=greet,\n",
        "    inputs=[gr.Textbox(lines=2, placeholder=\"Your Name Here...\"), gr.Checkbox(label=\"Is it Morning?\"), gr.Slider(0, 100)],\n",
        "    outputs=[gr.Textbox(label = \"Greeting\"), gr.Number(label = \"Temperature in Celsius\")],\n",
        "    examples=[\n",
        "        [\"Umang\", True, 65],\n",
        "        [\"Jesse\", False, 95]]\n",
        ")\n",
        "demo.launch()"
      ],
      "metadata": {
        "colab": {
          "base_uri": "https://localhost:8080/",
          "height": 658
        },
        "id": "bYx07WmokUiR",
        "outputId": "0d9e7b27-cdfa-4b6b-f6d5-213cc9dcf6ce"
      },
      "id": "bYx07WmokUiR",
      "execution_count": 4,
      "outputs": [
        {
          "output_type": "stream",
          "name": "stdout",
          "text": [
            "Colab notebook detected. To show errors in colab notebook, set `debug=True` in `launch()`\n",
            "Running on public URL: https://58914.gradio.app\n",
            "\n",
            "This share link expires in 72 hours. For free permanent hosting, check out Spaces (https://huggingface.co/spaces)\n"
          ]
        },
        {
          "output_type": "display_data",
          "data": {
            "text/plain": [
              "<IPython.lib.display.IFrame at 0x7f902ac54190>"
            ],
            "text/html": [
              "\n",
              "        <iframe\n",
              "            width=\"900\"\n",
              "            height=\"500\"\n",
              "            src=\"https://58914.gradio.app\"\n",
              "            frameborder=\"0\"\n",
              "            allowfullscreen\n",
              "        ></iframe>\n",
              "        "
            ]
          },
          "metadata": {}
        },
        {
          "output_type": "execute_result",
          "data": {
            "text/plain": [
              "(<gradio.routes.App at 0x7f902ac2d890>,\n",
              " 'http://127.0.0.1:7862/',\n",
              " 'https://58914.gradio.app')"
            ]
          },
          "metadata": {},
          "execution_count": 4
        }
      ]
    },
    {
      "cell_type": "markdown",
      "source": [
        "## In Class Exercise\n",
        "\n",
        "Now that we've seen the power of Gradio's component attributes, let's practice using some of them. \n",
        "\n",
        "We will use a modified version of the greet function above. Now, the greeting has options for morning, evening and afternoon. We additionally also have the ability to add a descriptor for the weather, and as before, we can indicate the temperature. Try the following:\n",
        "\n",
        "1. Use the \"[Radio](https://www.gradio.app/docs/#radio)\" class to provide UI options for choosing whether it's morning, afternoon or evening. **Pass a list of options to the choices parameter**.\n",
        "\n",
        "2. Instead of a slider, use the [Number](https://www.gradio.app/docs/#number) class to allow users to type in a number in Farenheit for the temperature.\n",
        "\n",
        "3. Use the \"[Dropdown](https://www.gradio.app/docs/#dropdown)\" class to provide UI options for choosing the weather (rainy, sunny, windy etc.). **Pass a list of options to the choices parameter**.\n",
        "\n",
        "3. Add a few examples to help users use your application!\n",
        "\n",
        "Let's take 10 minutes to work on this in breakout groups. We'll come back and discuss the answers!"
      ],
      "metadata": {
        "id": "9gSXKcDBlUUL"
      },
      "id": "9gSXKcDBlUUL"
    },
    {
      "cell_type": "code",
      "source": [
        "def greet(name, time_of_day, temperature, weather):\n",
        "    if time_of_day == \"morning\":\n",
        "      salutation = \"Good morning\"\n",
        "    elif time_of_day == \"afternoon\":\n",
        "      salutation = \"Good afternoon\"\n",
        "    elif time_of_day == \"evening\":\n",
        "      salutation = \"Good evening\"\n",
        "\n",
        "    greeting = \"%s %s! It is %s degrees today. The weather is %s.\" % (salutation, name, temperature, weather)\n",
        "    celsius = (temperature - 32) * 5 / 9\n",
        "    return greeting, round(celsius, 2)"
      ],
      "metadata": {
        "id": "S27DajYfkg4u"
      },
      "id": "S27DajYfkg4u",
      "execution_count": 5,
      "outputs": []
    },
    {
      "cell_type": "code",
      "source": [
        "greet(\"Umang\", \"morning\", 65, \"rainy\")"
      ],
      "metadata": {
        "colab": {
          "base_uri": "https://localhost:8080/"
        },
        "id": "9wLpj9oUrecR",
        "outputId": "065716a6-d0ed-450c-c19e-f1604c510549"
      },
      "id": "9wLpj9oUrecR",
      "execution_count": 6,
      "outputs": [
        {
          "output_type": "execute_result",
          "data": {
            "text/plain": [
              "('Good morning Umang! It is 65 degrees today. The weather is rainy.', 18.33)"
            ]
          },
          "metadata": {},
          "execution_count": 6
        }
      ]
    },
    {
      "cell_type": "markdown",
      "source": [
        "If you get stuck, one possible solution is in the hidden code chunk below:"
      ],
      "metadata": {
        "id": "DYnD1p0hxTdT"
      },
      "id": "DYnD1p0hxTdT"
    },
    {
      "cell_type": "code",
      "source": [
        "#@markdown\n",
        "demo = gr.Interface(\n",
        "    fn=greet,\n",
        "    inputs= [gr.Textbox(label = \"Name\", lines=2, placeholder=\"Your Name Here...\"), \n",
        "             gr.Radio(label = \"Time of Day\", choices = [\"morning\", \"afternoon\", \"evening\"]),\n",
        "             gr.Number(label = \"Temperature\"),\n",
        "             gr.Dropdown(label = \"Weather\", choices = [\"rainy\", \"sunny\", \"windy\"]),],\n",
        "    outputs=[gr.Textbox(label = \"Greeting\"), gr.Number(label = \"Temperature in Celsius\")],\n",
        "    examples=[\n",
        "        [\"Umang\", \"morning\", 65, \"rainy\"],\n",
        "        [\"Jesse\", \"afternoon\", 87, \"sunny\"],\n",
        "        [\"Charreau\", \"evening\", 72, \"windy\"]]\n",
        ")\n",
        "demo.launch()"
      ],
      "metadata": {
        "cellView": "form",
        "id": "xB2uDaC1s2Um"
      },
      "id": "xB2uDaC1s2Um",
      "execution_count": null,
      "outputs": []
    },
    {
      "cell_type": "markdown",
      "source": [
        "So as we can see, Gradio is very customizable and intuitive. You simply wrap the components in a list. Each component in the inputs list corresponds to one of the parameters of the function, in order. Each component in the outputs list corresponds to one of the values returned by the function, again in order. The key thing to remember here is that **order matters**.\n",
        "\n",
        "Now, let's take a look at some other data types that Gradio supports. Over the next few weeks, we'll be working with text, audio, images and traditional structured data. We'll go through examples of each type below. Here, we'll use some out-of-the-box functions to demonstrate each data type in action.\n",
        "\n",
        "## Images\n",
        "\n",
        "In the code chunk below, we have a function called sepia, which takes in an image and returns the same image, but in sepia instead. "
      ],
      "metadata": {
        "id": "v5D5vuw3wsEG"
      },
      "id": "v5D5vuw3wsEG"
    },
    {
      "cell_type": "code",
      "source": [
        "import numpy as np\n",
        "\n",
        "import gradio as gr\n",
        "\n",
        "def sepia(input_img):\n",
        "    sepia_filter = np.array(\n",
        "        [[0.393, 0.769, 0.189], [0.349, 0.686, 0.168], [0.272, 0.534, 0.131]]\n",
        "    )\n",
        "    sepia_img = input_img.dot(sepia_filter.T)\n",
        "    sepia_img /= sepia_img.max()\n",
        "    return sepia_img\n",
        "\n",
        "demo = gr.Interface(\n",
        "    fn = sepia, \n",
        "    inputs = gr.Image(shape=(200, 200)), \n",
        "    outputs = \"image\")\n",
        "\n",
        "demo.launch()"
      ],
      "metadata": {
        "colab": {
          "base_uri": "https://localhost:8080/",
          "height": 658
        },
        "id": "flynaWDRs7BM",
        "outputId": "a213deea-2707-4e3f-ae0e-568f19166565"
      },
      "id": "flynaWDRs7BM",
      "execution_count": 19,
      "outputs": [
        {
          "output_type": "stream",
          "name": "stdout",
          "text": [
            "Colab notebook detected. To show errors in colab notebook, set `debug=True` in `launch()`\n",
            "Running on public URL: https://25082.gradio.app\n",
            "\n",
            "This share link expires in 72 hours. For free permanent hosting, check out Spaces (https://huggingface.co/spaces)\n"
          ]
        },
        {
          "output_type": "display_data",
          "data": {
            "text/plain": [
              "<IPython.lib.display.IFrame at 0x7f902ac31ad0>"
            ],
            "text/html": [
              "\n",
              "        <iframe\n",
              "            width=\"900\"\n",
              "            height=\"500\"\n",
              "            src=\"https://25082.gradio.app\"\n",
              "            frameborder=\"0\"\n",
              "            allowfullscreen\n",
              "        ></iframe>\n",
              "        "
            ]
          },
          "metadata": {}
        },
        {
          "output_type": "execute_result",
          "data": {
            "text/plain": [
              "(<gradio.routes.App at 0x7f902c044210>,\n",
              " 'http://127.0.0.1:7870/',\n",
              " 'https://25082.gradio.app')"
            ]
          },
          "metadata": {},
          "execution_count": 19
        }
      ]
    },
    {
      "cell_type": "markdown",
      "source": [
        "We can also instead use the built-in webcam to capture an image instead of uploading images. This can be very useful when building public facing model demos."
      ],
      "metadata": {
        "id": "mJPg7vrsy6n8"
      },
      "id": "mJPg7vrsy6n8"
    },
    {
      "cell_type": "code",
      "source": [
        "demo = gr.Interface(\n",
        "    fn=sepia, \n",
        "    live=True, #indicates a live interface\n",
        "    inputs=gr.Image(label=\"Input Image\", source=\"webcam\"), \n",
        "    outputs=\"image\")\n",
        "\n",
        "demo.launch()"
      ],
      "metadata": {
        "colab": {
          "base_uri": "https://localhost:8080/",
          "height": 691
        },
        "id": "JVX13YWMzGJb",
        "outputId": "c4bf5891-3ff9-4132-9e48-895350834cc5"
      },
      "id": "JVX13YWMzGJb",
      "execution_count": 20,
      "outputs": [
        {
          "output_type": "stream",
          "name": "stdout",
          "text": [
            "Hint: Set streaming=True for Image component to use live streaming.\n",
            "Colab notebook detected. To show errors in colab notebook, set `debug=True` in `launch()`\n",
            "Your interface requires microphone or webcam permissions - this may cause issues in Colab. Use the External URL in case of issues.\n",
            "Running on public URL: https://11202.gradio.app\n",
            "\n",
            "This share link expires in 72 hours. For free permanent hosting, check out Spaces (https://huggingface.co/spaces)\n"
          ]
        },
        {
          "output_type": "display_data",
          "data": {
            "text/plain": [
              "<IPython.lib.display.IFrame at 0x7f902be8a450>"
            ],
            "text/html": [
              "\n",
              "        <iframe\n",
              "            width=\"900\"\n",
              "            height=\"500\"\n",
              "            src=\"https://11202.gradio.app\"\n",
              "            frameborder=\"0\"\n",
              "            allowfullscreen\n",
              "        ></iframe>\n",
              "        "
            ]
          },
          "metadata": {}
        },
        {
          "output_type": "execute_result",
          "data": {
            "text/plain": [
              "(<gradio.routes.App at 0x7f902c077f50>,\n",
              " 'http://127.0.0.1:7871/',\n",
              " 'https://11202.gradio.app')"
            ]
          },
          "metadata": {},
          "execution_count": 20
        }
      ]
    },
    {
      "cell_type": "markdown",
      "source": [
        "We can also use the built in shortcuts instead of specifying the image source explicitly but just typing \"webcam\" as the inputs."
      ],
      "metadata": {
        "id": "qURDAEVW2RaJ"
      },
      "id": "qURDAEVW2RaJ"
    },
    {
      "cell_type": "code",
      "source": [
        "demo = gr.Interface(\n",
        "    fn=sepia, \n",
        "    live=True, #indicates a live interface\n",
        "    inputs=\"webcam\", \n",
        "    outputs=\"image\")\n",
        "\n",
        "demo.launch()"
      ],
      "metadata": {
        "colab": {
          "base_uri": "https://localhost:8080/",
          "height": 691
        },
        "id": "EWFBGwDn2Kj3",
        "outputId": "6873f4b4-0f0c-4797-82a9-67144eee4f96"
      },
      "id": "EWFBGwDn2Kj3",
      "execution_count": 24,
      "outputs": [
        {
          "output_type": "stream",
          "name": "stdout",
          "text": [
            "Hint: Set streaming=True for Webcam component to use live streaming.\n",
            "Colab notebook detected. To show errors in colab notebook, set `debug=True` in `launch()`\n",
            "Your interface requires microphone or webcam permissions - this may cause issues in Colab. Use the External URL in case of issues.\n",
            "Running on public URL: https://56142.gradio.app\n",
            "\n",
            "This share link expires in 72 hours. For free permanent hosting, check out Spaces (https://huggingface.co/spaces)\n"
          ]
        },
        {
          "output_type": "display_data",
          "data": {
            "text/plain": [
              "<IPython.lib.display.IFrame at 0x7f902bddaad0>"
            ],
            "text/html": [
              "\n",
              "        <iframe\n",
              "            width=\"900\"\n",
              "            height=\"500\"\n",
              "            src=\"https://56142.gradio.app\"\n",
              "            frameborder=\"0\"\n",
              "            allowfullscreen\n",
              "        ></iframe>\n",
              "        "
            ]
          },
          "metadata": {}
        },
        {
          "output_type": "execute_result",
          "data": {
            "text/plain": [
              "(<gradio.routes.App at 0x7f902b1ca450>,\n",
              " 'http://127.0.0.1:7874/',\n",
              " 'https://56142.gradio.app')"
            ]
          },
          "metadata": {},
          "execution_count": 24
        }
      ]
    },
    {
      "cell_type": "markdown",
      "source": [
        "## Audio\n",
        "\n",
        "In the below example, we use a function that generates an audio file based on the note and the duration of the audio provided."
      ],
      "metadata": {
        "id": "1DaUINBC08X7"
      },
      "id": "1DaUINBC08X7"
    },
    {
      "cell_type": "code",
      "source": [
        "import numpy as np\n",
        "\n",
        "notes = [\"C\", \"C#\", \"D\", \"D#\", \"E\", \"F\", \"F#\", \"G\", \"G#\", \"A\", \"A#\", \"B\"]\n",
        "\n",
        "def generate_tone(note, octave, duration):\n",
        "    sr = 48000\n",
        "    a4_freq, tones_from_a4 = 440, 12 * (octave - 4) + (note - 9)\n",
        "    frequency = a4_freq * 2 ** (tones_from_a4 / 12)\n",
        "    duration = int(duration)\n",
        "    audio = np.linspace(0, duration, duration * sr)\n",
        "    audio = (20000 * np.sin(audio * (2 * np.pi * frequency))).astype(np.int16)\n",
        "    return sr, audio\n",
        "\n",
        "\n",
        "demo = gr.Interface(\n",
        "    generate_tone,\n",
        "    [\n",
        "        gr.Dropdown(notes, type=\"index\"),\n",
        "        gr.Slider(4, 6, step=1),\n",
        "        gr.Number(value=1,label=\"Duration in seconds\"),\n",
        "    ],\n",
        "    \"audio\",\n",
        ")\n",
        "\n",
        "demo.launch()"
      ],
      "metadata": {
        "colab": {
          "base_uri": "https://localhost:8080/",
          "height": 658
        },
        "id": "9WDEk7cvzP9D",
        "outputId": "abac1002-4853-4eca-bc15-18399b1c7188"
      },
      "id": "9WDEk7cvzP9D",
      "execution_count": 32,
      "outputs": [
        {
          "output_type": "stream",
          "name": "stdout",
          "text": [
            "Colab notebook detected. To show errors in colab notebook, set `debug=True` in `launch()`\n",
            "Running on public URL: https://23136.gradio.app\n",
            "\n",
            "This share link expires in 72 hours. For free permanent hosting, check out Spaces (https://huggingface.co/spaces)\n"
          ]
        },
        {
          "output_type": "display_data",
          "data": {
            "text/plain": [
              "<IPython.lib.display.IFrame at 0x7f902acf0d50>"
            ],
            "text/html": [
              "\n",
              "        <iframe\n",
              "            width=\"900\"\n",
              "            height=\"500\"\n",
              "            src=\"https://23136.gradio.app\"\n",
              "            frameborder=\"0\"\n",
              "            allowfullscreen\n",
              "        ></iframe>\n",
              "        "
            ]
          },
          "metadata": {}
        },
        {
          "output_type": "execute_result",
          "data": {
            "text/plain": [
              "(<gradio.routes.App at 0x7f902ad75510>,\n",
              " 'http://127.0.0.1:7880/',\n",
              " 'https://23136.gradio.app')"
            ]
          },
          "metadata": {},
          "execution_count": 32
        }
      ]
    },
    {
      "cell_type": "markdown",
      "source": [
        "In this next example, we can provide an audio as the input, and return the same audio, but reversed."
      ],
      "metadata": {
        "id": "V9OJj8if1n3p"
      },
      "id": "V9OJj8if1n3p"
    },
    {
      "cell_type": "code",
      "source": [
        "def reverse_audio(audio):\n",
        "    sr, data = audio\n",
        "    return (sr, np.flipud(data))\n",
        "\n",
        "demo = gr.Interface(fn=reverse_audio, \n",
        "                    inputs=\"microphone\", \n",
        "                    outputs=\"audio\")\n",
        "\n",
        "demo.launch()"
      ],
      "metadata": {
        "colab": {
          "base_uri": "https://localhost:8080/",
          "height": 674
        },
        "id": "f0SShrpE1nbq",
        "outputId": "07016778-9d9b-41f9-eb8a-2609dd26378a"
      },
      "id": "f0SShrpE1nbq",
      "execution_count": 23,
      "outputs": [
        {
          "output_type": "stream",
          "name": "stdout",
          "text": [
            "Colab notebook detected. To show errors in colab notebook, set `debug=True` in `launch()`\n",
            "Your interface requires microphone or webcam permissions - this may cause issues in Colab. Use the External URL in case of issues.\n",
            "Running on public URL: https://51780.gradio.app\n",
            "\n",
            "This share link expires in 72 hours. For free permanent hosting, check out Spaces (https://huggingface.co/spaces)\n"
          ]
        },
        {
          "output_type": "display_data",
          "data": {
            "text/plain": [
              "<IPython.lib.display.IFrame at 0x7f902c1e1b10>"
            ],
            "text/html": [
              "\n",
              "        <iframe\n",
              "            width=\"900\"\n",
              "            height=\"500\"\n",
              "            src=\"https://51780.gradio.app\"\n",
              "            frameborder=\"0\"\n",
              "            allowfullscreen\n",
              "        ></iframe>\n",
              "        "
            ]
          },
          "metadata": {}
        },
        {
          "output_type": "execute_result",
          "data": {
            "text/plain": [
              "(<gradio.routes.App at 0x7f902bd42950>,\n",
              " 'http://127.0.0.1:7873/',\n",
              " 'https://51780.gradio.app')"
            ]
          },
          "metadata": {},
          "execution_count": 23
        }
      ]
    },
    {
      "cell_type": "markdown",
      "source": [
        "## Datasets and Files\n",
        "\n",
        "For this last example, let's see how we can use tabular data in a Gradio application. First, let's see how a row filtering function works in Gradio:"
      ],
      "metadata": {
        "id": "qse0eIPr2cuq"
      },
      "id": "qse0eIPr2cuq"
    },
    {
      "cell_type": "code",
      "source": [
        "def filter_records(records, gender):\n",
        "    return records[records[\"gender\"] == gender]\n",
        "\n",
        "\n",
        "demo = gr.Interface(\n",
        "    filter_records,\n",
        "    [\n",
        "        gr.Dataframe(\n",
        "            headers=[\"name\", \"age\", \"gender\"],\n",
        "            datatype=[\"str\", \"number\", \"str\"],\n",
        "            row_count=5,\n",
        "            col_count=(3, \"fixed\")\n",
        "        ),\n",
        "        gr.Dropdown([\"M\", \"F\", \"O\"]),\n",
        "    ],\n",
        "    \"dataframe\",\n",
        "    description=\"Enter gender as 'M', 'F', or 'O' for other.\",\n",
        ")\n",
        "\n",
        "demo.launch()"
      ],
      "metadata": {
        "colab": {
          "base_uri": "https://localhost:8080/",
          "height": 658
        },
        "id": "tdENHs0110zf",
        "outputId": "3084c661-776e-48e1-858d-404fd2c75e65"
      },
      "id": "tdENHs0110zf",
      "execution_count": 25,
      "outputs": [
        {
          "output_type": "stream",
          "name": "stdout",
          "text": [
            "Colab notebook detected. To show errors in colab notebook, set `debug=True` in `launch()`\n",
            "Running on public URL: https://44863.gradio.app\n",
            "\n",
            "This share link expires in 72 hours. For free permanent hosting, check out Spaces (https://huggingface.co/spaces)\n"
          ]
        },
        {
          "output_type": "display_data",
          "data": {
            "text/plain": [
              "<IPython.lib.display.IFrame at 0x7f902c2a0890>"
            ],
            "text/html": [
              "\n",
              "        <iframe\n",
              "            width=\"900\"\n",
              "            height=\"500\"\n",
              "            src=\"https://44863.gradio.app\"\n",
              "            frameborder=\"0\"\n",
              "            allowfullscreen\n",
              "        ></iframe>\n",
              "        "
            ]
          },
          "metadata": {}
        },
        {
          "output_type": "execute_result",
          "data": {
            "text/plain": [
              "(<gradio.routes.App at 0x7f902c2a6e50>,\n",
              " 'http://127.0.0.1:7875/',\n",
              " 'https://44863.gradio.app')"
            ]
          },
          "metadata": {},
          "execution_count": 25
        }
      ]
    },
    {
      "cell_type": "markdown",
      "source": [
        "You can also upload files to Gradio applications as below. In this demo, we input two files and the application returns a zip file containing both inputs."
      ],
      "metadata": {
        "id": "OV52xKzM3gfR"
      },
      "id": "OV52xKzM3gfR"
    },
    {
      "cell_type": "code",
      "source": [
        "import os\n",
        "from zipfile import ZipFile\n",
        "\n",
        "import gradio as gr\n",
        "\n",
        "\n",
        "def zip_two_files(file1, file2):\n",
        "    with ZipFile(\"tmp.zip\", \"w\") as zipObj:\n",
        "        zipObj.write(file1.name, \"file1\")\n",
        "        zipObj.write(file2.name, \"file2\")\n",
        "    return \"tmp.zip\"\n",
        "\n",
        "\n",
        "demo = gr.Interface(\n",
        "    zip_two_files,\n",
        "    [\"file\", \"file\"],\n",
        "    \"file\"\n",
        ")\n",
        "\n",
        "demo.launch()"
      ],
      "metadata": {
        "colab": {
          "base_uri": "https://localhost:8080/",
          "height": 658
        },
        "id": "emf2TfuF3cEv",
        "outputId": "84983340-5b0c-4175-bef1-04703ba094b8"
      },
      "id": "emf2TfuF3cEv",
      "execution_count": 26,
      "outputs": [
        {
          "output_type": "stream",
          "name": "stdout",
          "text": [
            "Colab notebook detected. To show errors in colab notebook, set `debug=True` in `launch()`\n",
            "Running on public URL: https://25876.gradio.app\n",
            "\n",
            "This share link expires in 72 hours. For free permanent hosting, check out Spaces (https://huggingface.co/spaces)\n"
          ]
        },
        {
          "output_type": "display_data",
          "data": {
            "text/plain": [
              "<IPython.lib.display.IFrame at 0x7f902bf44910>"
            ],
            "text/html": [
              "\n",
              "        <iframe\n",
              "            width=\"900\"\n",
              "            height=\"500\"\n",
              "            src=\"https://25876.gradio.app\"\n",
              "            frameborder=\"0\"\n",
              "            allowfullscreen\n",
              "        ></iframe>\n",
              "        "
            ]
          },
          "metadata": {}
        },
        {
          "output_type": "execute_result",
          "data": {
            "text/plain": [
              "(<gradio.routes.App at 0x7f902b38ae90>,\n",
              " 'http://127.0.0.1:7876/',\n",
              " 'https://25876.gradio.app')"
            ]
          },
          "metadata": {},
          "execution_count": 26
        }
      ]
    },
    {
      "cell_type": "markdown",
      "source": [
        "# Flagging and Debugging\n",
        "\n",
        "Underneath the output interfaces, there is a \"Flag\" button. When a user testing your model sees input with interesting output, such as erroneous or unexpected model behaviour, they can flag the input for the interface creator to review. Within the directory provided by the flagging_dir= argument to the Interface constructor, a CSV file will log the flagged inputs. If the interface involves file data, such as for Image and Audio components, folders will be created to store those flagged data as well."
      ],
      "metadata": {
        "id": "f-LQdain3yjk"
      },
      "id": "f-LQdain3yjk"
    },
    {
      "cell_type": "code",
      "source": [
        "def greet(name, isMorning, temperature):\n",
        "    salutation = \"Good morning\" if isMorning else \"Good evening\"\n",
        "    greeting = \"%s %s. It is %s degrees today\" % (salutation, name, temperature)\n",
        "    celsius = (temperature - 32) * 5 / 9\n",
        "    return greeting, round(celsius, 2)\n",
        "\n",
        "demo = gr.Interface(\n",
        "    fn=greet,\n",
        "    inputs=[gr.Textbox(lines=2, placeholder=\"Your Name Here...\"), gr.Checkbox(label=\"Is it Morning?\"), gr.Slider(0, 100)],\n",
        "    outputs=[gr.Textbox(label = \"Greeting\"), gr.Number(label = \"Temperature in Celsius\")],\n",
        "    examples=[\n",
        "        [\"Umang\", True, 65],\n",
        "        [\"Jesse\", False, 95]]\n",
        ")\n",
        "demo.launch(debug=True)"
      ],
      "metadata": {
        "colab": {
          "base_uri": "https://localhost:8080/",
          "height": 707
        },
        "id": "TM44G3XB3umY",
        "outputId": "2653da5b-867c-4d78-90ef-810ef5696980"
      },
      "id": "TM44G3XB3umY",
      "execution_count": 29,
      "outputs": [
        {
          "output_type": "stream",
          "name": "stdout",
          "text": [
            "\n",
            "Thanks for being a Gradio user! If you have questions or feedback, please join our Discord server and chat with us: https://discord.gg/feTf9x3ZSB\n",
            "Colab notebook detected. This cell will run indefinitely so that you can see errors and logs. To turn off, set debug=False in launch().\n",
            "Running on public URL: https://59510.gradio.app\n",
            "\n",
            "This share link expires in 72 hours. For free permanent hosting, check out Spaces (https://huggingface.co/spaces)\n"
          ]
        },
        {
          "output_type": "display_data",
          "data": {
            "text/plain": [
              "<IPython.lib.display.IFrame at 0x7f902b0ca390>"
            ],
            "text/html": [
              "\n",
              "        <iframe\n",
              "            width=\"900\"\n",
              "            height=\"500\"\n",
              "            src=\"https://59510.gradio.app\"\n",
              "            frameborder=\"0\"\n",
              "            allowfullscreen\n",
              "        ></iframe>\n",
              "        "
            ]
          },
          "metadata": {}
        },
        {
          "output_type": "stream",
          "name": "stdout",
          "text": [
            "Keyboard interruption in main thread... closing server.\n"
          ]
        },
        {
          "output_type": "execute_result",
          "data": {
            "text/plain": [
              "(<gradio.routes.App at 0x7f902aee9050>,\n",
              " 'http://127.0.0.1:7878/',\n",
              " 'https://59510.gradio.app')"
            ]
          },
          "metadata": {},
          "execution_count": 29
        }
      ]
    },
    {
      "cell_type": "markdown",
      "source": [
        "# Blocks: Greater Customizability over your UIs\n",
        "\n",
        "Blocks allows you to do things like: group together related demos, change where components appear on the page, handle complex data flows (e.g. outputs can serve as inputs to other functions), and update properties/visibility of components based on user interaction -- still all in Python.\n",
        "\n",
        "As an example, Blocks uses nested with statements in Python to lay out components on a page.\n"
      ],
      "metadata": {
        "id": "RZkWghlp4t7e"
      },
      "id": "RZkWghlp4t7e"
    },
    {
      "cell_type": "code",
      "source": [
        "demo = gr.Blocks()\n",
        "\n",
        "def flip_text(x):\n",
        "    return x[::-1]\n",
        "\n",
        "def flip_image(x):\n",
        "    return np.fliplr(x)\n",
        "\n",
        "with demo:\n",
        "    gr.Markdown(\"Flip text or image files using this demo.\")\n",
        "    with gr.Tabs():\n",
        "        with gr.TabItem(\"Flip Text\"):\n",
        "            text_input = gr.Textbox()\n",
        "            text_output = gr.Textbox()\n",
        "            text_button = gr.Button(\"Flip\")\n",
        "        with gr.TabItem(\"Flip Image\"):\n",
        "            with gr.Row():\n",
        "                image_input = gr.Image()\n",
        "                image_output = gr.Image()\n",
        "            image_button = gr.Button(\"Flip\")\n",
        "\n",
        "    text_button.click(flip_text, inputs=text_input, outputs=text_output)\n",
        "    image_button.click(flip_image, inputs=image_input, outputs=image_output)\n",
        "\n",
        "demo.launch()"
      ],
      "metadata": {
        "colab": {
          "base_uri": "https://localhost:8080/",
          "height": 658
        },
        "id": "OilEIr-24NXb",
        "outputId": "afab1d51-0771-4050-b1fe-0fdba1a48fae"
      },
      "id": "OilEIr-24NXb",
      "execution_count": 30,
      "outputs": [
        {
          "output_type": "stream",
          "name": "stdout",
          "text": [
            "Colab notebook detected. To show errors in colab notebook, set `debug=True` in `launch()`\n",
            "Running on public URL: https://48586.gradio.app\n",
            "\n",
            "This share link expires in 72 hours. For free permanent hosting, check out Spaces (https://huggingface.co/spaces)\n"
          ]
        },
        {
          "output_type": "display_data",
          "data": {
            "text/plain": [
              "<IPython.lib.display.IFrame at 0x7f902b027d50>"
            ],
            "text/html": [
              "\n",
              "        <iframe\n",
              "            width=\"900\"\n",
              "            height=\"500\"\n",
              "            src=\"https://48586.gradio.app\"\n",
              "            frameborder=\"0\"\n",
              "            allowfullscreen\n",
              "        ></iframe>\n",
              "        "
            ]
          },
          "metadata": {}
        },
        {
          "output_type": "execute_result",
          "data": {
            "text/plain": [
              "(<gradio.routes.App at 0x7f902aebbb50>,\n",
              " 'http://127.0.0.1:7878/',\n",
              " 'https://48586.gradio.app')"
            ]
          },
          "metadata": {},
          "execution_count": 30
        }
      ]
    },
    {
      "cell_type": "markdown",
      "source": [
        "# Sharing Demos\n",
        "\n",
        "It is very easy to create demos that you can share with anyone. Simply set the \"share\" parameter to True in the demo launch() command, and Gradio will create a public link to your application. The processing for this happens locally, so your computer must stay on for the duration of others using your application. Sharing links expire after 72 hours."
      ],
      "metadata": {
        "id": "KJ7P_RAv5_8i"
      },
      "id": "KJ7P_RAv5_8i"
    },
    {
      "cell_type": "code",
      "source": [
        ""
      ],
      "metadata": {
        "id": "ltB9shta5DEa"
      },
      "id": "ltB9shta5DEa",
      "execution_count": null,
      "outputs": []
    }
  ],
  "metadata": {
    "kernelspec": {
      "display_name": "Python 3 (ipykernel)",
      "language": "python",
      "name": "python3"
    },
    "language_info": {
      "codemirror_mode": {
        "name": "ipython",
        "version": 3
      },
      "file_extension": ".py",
      "mimetype": "text/x-python",
      "name": "python",
      "nbconvert_exporter": "python",
      "pygments_lexer": "ipython3",
      "version": "3.8.8"
    },
    "colab": {
      "name": "gradio-demo.ipynb",
      "provenance": []
    }
  },
  "nbformat": 4,
  "nbformat_minor": 5
}