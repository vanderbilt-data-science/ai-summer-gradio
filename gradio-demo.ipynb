{
  "cells": [
    {
      "cell_type": "markdown",
      "id": "e0729087-a6b3-4be0-a5c1-328ee8719aa4",
      "metadata": {
        "id": "e0729087-a6b3-4be0-a5c1-328ee8719aa4"
      },
      "source": [
        "[![Open In Colab](https://colab.research.google.com/assets/colab-badge.svg)](https://colab.research.google.com/github/vanderbilt-data-science/ai-summer-gradio/blob/main/gradio-demo.ipynb)"
      ]
    },
    {
      "cell_type": "markdown",
      "source": [
        "# Introduction to Gradio for Hugging Face\n",
        "\n",
        "Hugging Face is an excellent platform to build and share your AI and ML models. One of the best ways to share the models you develop is by creating interactive web-based applications. These applications not only allow you to share your work with others who might be working on similar problems or those without a technical background, but building these applications also help you test your models and better understand how they work. \n",
        "\n",
        "Creating such web-based applications has traditionally been difficult since it required knowledge of how to host applications on the web, in addition to the various programming languages needed to build the applications from the ground up like HTML, CSS and Java. \n",
        "\n",
        "Gradio elimiates the need to know how to program in these other languages. In addtion, the integration with Hugging Face spaces allows you to host your application on the web, for free - in just a few lines of code!\n",
        "\n",
        "So let's get started! The first step is to install Gradio. This can be done using a simple pip install on your local machine. Since we'll be using Google Colab today, we will also need to install it here. "
      ],
      "metadata": {
        "id": "PSMMc_Hj3nJQ"
      },
      "id": "PSMMc_Hj3nJQ"
    },
    {
      "cell_type": "code",
      "execution_count": null,
      "id": "ec8af6e7-420f-401b-ab3a-ac62d300cd40",
      "metadata": {
        "id": "ec8af6e7-420f-401b-ab3a-ac62d300cd40"
      },
      "outputs": [],
      "source": [
        "!pip install gradio\n",
        "import gradio as gr"
      ]
    },
    {
      "cell_type": "markdown",
      "source": [
        "Before jumping into the details, let's take a look at a simple Hello World application. This application takes in a name, and returns a greeting:"
      ],
      "metadata": {
        "id": "tsazCkaP6KCI"
      },
      "id": "tsazCkaP6KCI"
    },
    {
      "cell_type": "code",
      "source": [
        "def greet(name):\n",
        "    return \"Hello \" + name + \"!!\"\n",
        "\n",
        "demo = gr.Interface(fn=greet, inputs=\"text\", outputs=\"text\")\n",
        "\n",
        "demo.launch()"
      ],
      "metadata": {
        "colab": {
          "base_uri": "https://localhost:8080/",
          "height": 658
        },
        "id": "SBwehX4T3L-E",
        "outputId": "683d2892-4f73-4f64-ec11-703120c9512a"
      },
      "id": "SBwehX4T3L-E",
      "execution_count": 6,
      "outputs": [
        {
          "output_type": "stream",
          "name": "stdout",
          "text": [
            "Colab notebook detected. To show errors in colab notebook, set `debug=True` in `launch()`\n",
            "Running on public URL: https://15646.gradio.app\n",
            "\n",
            "This share link expires in 72 hours. For free permanent hosting, check out Spaces (https://huggingface.co/spaces)\n"
          ]
        },
        {
          "output_type": "display_data",
          "data": {
            "text/plain": [
              "<IPython.lib.display.IFrame at 0x7f5454d63a10>"
            ],
            "text/html": [
              "\n",
              "        <iframe\n",
              "            width=\"900\"\n",
              "            height=\"500\"\n",
              "            src=\"https://15646.gradio.app\"\n",
              "            frameborder=\"0\"\n",
              "            allowfullscreen\n",
              "        ></iframe>\n",
              "        "
            ]
          },
          "metadata": {}
        },
        {
          "output_type": "execute_result",
          "data": {
            "text/plain": [
              "(<gradio.routes.App at 0x7f5454cea050>,\n",
              " 'http://127.0.0.1:7861/',\n",
              " 'https://15646.gradio.app')"
            ]
          },
          "metadata": {},
          "execution_count": 6
        }
      ]
    },
    {
      "cell_type": "markdown",
      "source": [
        "Here, you can see that it was extremely simple to create this application. It does not take much more effort to link these application to your models or any other functions. The gradio application will show up either in a pop-up, or within the Jupyter Notebook. The application is also available in your browser at the provided localhost website.\n",
        "\n",
        "\n",
        "Now, let's examine the **Interface** class. The interface class is the foundation of Gradio applications and is comprised of only 3 elements:\n",
        "\n",
        "1. fn: This can be nearly any function, and gradio can simply wrap it in an interface.\n",
        "2. inputs: The components to use for the inputs to your application.\n",
        "3. outputs: The components to use for the outputs to your application.\n",
        "\n",
        "<img src='https://drive.google.com/uc?export=view&id=11dUzpkbM7XufUMX6y15xxYnvycOMedrn'>\n",
        "\n",
        "\n",
        "The inputs and outputs can be of several different types. These can either be passed as objects or as their string shortcuts. In the example above, we passed \"text\" as the inputs. This is the string shortcut to the \"textbox\" type of input. Gradio refers to these as Components. You can see examples of the different types of components at the following link: [Gradio Components](https://www.gradio.app/docs/#components)"
      ],
      "metadata": {
        "id": "Yk2Uj-aT_w_Q"
      },
      "id": "Yk2Uj-aT_w_Q"
    },
    {
      "cell_type": "code",
      "source": [
        ""
      ],
      "metadata": {
        "id": "v7De96ymDJyi"
      },
      "id": "v7De96ymDJyi",
      "execution_count": null,
      "outputs": []
    }
  ],
  "metadata": {
    "kernelspec": {
      "display_name": "Python 3 (ipykernel)",
      "language": "python",
      "name": "python3"
    },
    "language_info": {
      "codemirror_mode": {
        "name": "ipython",
        "version": 3
      },
      "file_extension": ".py",
      "mimetype": "text/x-python",
      "name": "python",
      "nbconvert_exporter": "python",
      "pygments_lexer": "ipython3",
      "version": "3.8.8"
    },
    "colab": {
      "name": "gradio-demo.ipynb",
      "provenance": []
    }
  },
  "nbformat": 4,
  "nbformat_minor": 5
}